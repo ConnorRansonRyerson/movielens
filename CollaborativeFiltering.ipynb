{
 "cells": [
  {
   "cell_type": "markdown",
   "metadata": {},
   "source": [
    "# Collaborative filtering"
   ]
  },
  {
   "cell_type": "code",
   "execution_count": 1,
   "metadata": {
    "collapsed": false
   },
   "outputs": [
    {
     "name": "stdout",
     "output_type": "stream",
     "text": [
      "Populating the interactive namespace from numpy and matplotlib\n"
     ]
    }
   ],
   "source": [
    "%pylab inline\n",
    "\n",
    "from collections import defaultdict\n",
    "import numpy as np\n",
    "from sklearn.neighbors import NearestNeighbors\n",
    "from sklearn.cluster import KMeans\n",
    "\n",
    "from evaluator import Evaluator\n",
    "from dataset_handler import DatasetHandler"
   ]
  },
  {
   "cell_type": "code",
   "execution_count": 2,
   "metadata": {
    "collapsed": true
   },
   "outputs": [],
   "source": [
    "dataset100k = \"datasets/ml-latest-small/\"\n",
    "dataset1M = \"datasets/ml-1m\""
   ]
  },
  {
   "cell_type": "code",
   "execution_count": 3,
   "metadata": {
    "collapsed": true
   },
   "outputs": [],
   "source": [
    "dataset_handler = DatasetHandler(dataset100k)"
   ]
  },
  {
   "cell_type": "code",
   "execution_count": 4,
   "metadata": {
    "collapsed": false
   },
   "outputs": [],
   "source": [
    "class CollaborativeFilteringRecommender(object):\n",
    "    def __init__(self, dataset_handler, neighbours_to_predict=5):\n",
    "        self.dataset_handler = dataset_handler\n",
    "        self.movies_vectors = self.dataset_handler.load_movies()\n",
    "        self.movies_ids = set(self.dataset_handler.id_to_title.keys())\n",
    "        self.neighbours_to_predict = neighbours_to_predict\n",
    "    \n",
    "    def train(self, train_set):\n",
    "        self.users_ratings = train_set\n",
    "        self.users_profiles, self.user_id_to_profile_index = self._create_users_profiles(train_set)\n",
    "        self.movies_watchers = self._get_movies_watchers(train_set)\n",
    "        self.nbrs = NearestNeighbors(metric='cosine', algorithm='brute')\n",
    "    \n",
    "    def top(self, user_profile, topN):\n",
    "        unrated_movies = np.array([\n",
    "            (movieId, self.predict_rating(user_profile, movieId))\n",
    "            for movieId in list(self.movies_ids - user_profile[1])\n",
    "        ])\n",
    "        return unrated_movies[np.argpartition(-unrated_movies[:, 1], topN)[:topN], 0]\n",
    "    \n",
    "    def predict_rating(self, user_profile, movieId):\n",
    "        profiles_with_ids = np.array([\n",
    "            np.hstack([[watcher], self.users_profiles[self.user_id_to_profile_index[watcher]][0]])\n",
    "            for watcher in self.movies_watchers[movieId]\n",
    "        ])\n",
    "        nearest_neighbours = self._cosineKNN(user_profile, profiles_with_ids, self.neighbours_to_predict)\n",
    "        if not nearest_neighbours:\n",
    "            return 0.0\n",
    "        return np.average([self.users_ratings[neighbour][movieId] for neighbour in nearest_neighbours])\n",
    "    \n",
    "    def create_user_profile(self, user_ratings):\n",
    "        mid_rating=2.75\n",
    "        profile = np.average(\n",
    "            np.array([\n",
    "                self.movies_vectors[self.dataset_handler.id2index(movie)]*np.sign(rating - mid_rating)\n",
    "                for (movie, rating) in user_ratings.items()\n",
    "            ]),\n",
    "            weights=(mid_rating-np.array(user_ratings.values()))**2,\n",
    "            axis=0\n",
    "        )\n",
    "        watched_movies = set(user_ratings.keys())\n",
    "        return (profile, watched_movies)\n",
    "    \n",
    "    def present_user(self, user_profile, user_ratings):\n",
    "        print \"User favourite genre:\", self.dataset_handler.feature_index2genre(np.argmax(user_profile[0]))\n",
    "        print \"User ratings:\"\n",
    "        for (movieId, rating) in user_ratings.items():\n",
    "            movie_vector = self.movies_vectors[self.dataset_handler.id2index(movieId)]\n",
    "            print \"{} {}: {}\".format(\n",
    "                self.dataset_handler.id_to_title[movieId],\n",
    "                self.dataset_handler.movie_vector2genres(movie_vector),\n",
    "                rating\n",
    "            )\n",
    "    \n",
    "    def present_recommendations(self, recommendations):\n",
    "        print \"Recommended movies:\"\n",
    "        for movieId in recommendations:\n",
    "            movie_vector = self.movies_vectors[self.dataset_handler.id2index(movieId)]\n",
    "            print \"{} {}\".format(\n",
    "                self.dataset_handler.id_to_title[movieId],\n",
    "                self.dataset_handler.movie_vector2genres(movie_vector)\n",
    "            )\n",
    "    \n",
    "    def _get_movies_watchers(self, users_ratings):\n",
    "        movies_watchers = defaultdict(list)\n",
    "        for (user, user_ratings) in users_ratings.items():\n",
    "            for movieId in user_ratings.keys():\n",
    "                movies_watchers[movieId].append(user)\n",
    "        return movies_watchers\n",
    "    \n",
    "    def _create_users_profiles(self, users_ratings):\n",
    "        users_profiles = []\n",
    "        user_id_to_profile_index = {}\n",
    "        for i, (user, user_ratings) in enumerate(users_ratings.items()):\n",
    "            users_profiles.append(self.create_user_profile(user_ratings))\n",
    "            user_id_to_profile_index[user] = i\n",
    "        return users_profiles, user_id_to_profile_index\n",
    "    \n",
    "    def _cosineKNN(self, user_profile, profiles_with_ids, k, treshold=20):\n",
    "        if profiles_with_ids.shape[0] < treshold:\n",
    "            return []\n",
    "        self.nbrs.fit(profiles_with_ids[:, 1:])\n",
    "        return [\n",
    "            profiles_with_ids[i, 0]\n",
    "            for i in self.nbrs.kneighbors(np.array([user_profile[0]]), n_neighbors=min(k, len(profiles_with_ids)), return_distance=False)[0]\n",
    "        ]"
   ]
  },
  {
   "cell_type": "code",
   "execution_count": 5,
   "metadata": {
    "collapsed": false
   },
   "outputs": [
    {
     "name": "stdout",
     "output_type": "stream",
     "text": [
      "User favourite genre: Action\n",
      "User ratings:\n",
      "French Connection, The (1971) ['Action', 'Crime', 'Thriller']: 4.0\n",
      "Dracula (Bram Stoker's Dracula) (1992) ['Fantasy', 'Horror', 'Romance', 'Thriller']: 3.5\n",
      "Sleepers (1996) ['Thriller']: 3.0\n",
      "Gods Must Be Crazy, The (1980) ['Adventure', 'Comedy']: 3.0\n",
      "Ben-Hur (1959) ['Action', 'Adventure', 'Drama']: 2.0\n",
      "Willow (1988) ['Action', 'Adventure', 'Fantasy']: 2.0\n",
      "Escape from New York (1981) ['Action', 'Adventure', 'Sci-Fi', 'Thriller']: 2.0\n",
      "Blazing Saddles (1974) ['Comedy', 'Western']: 3.0\n",
      "Gandhi (1982) ['Drama']: 2.0\n",
      "Deer Hunter, The (1978) ['Drama', 'War']: 2.0\n",
      "Cape Fear (1991) ['Thriller']: 2.0\n",
      "Cinema Paradiso (Nuovo cinema Paradiso) (1989) ['Drama']: 4.0\n",
      "Antz (1998) ['Adventure', 'Animation', 'Children', 'Comedy', 'Fantasy']: 2.0\n",
      "Fly, The (1986) ['Drama', 'Horror', 'Sci-Fi', 'Thriller']: 2.5\n",
      "Time Bandits (1981) ['Adventure', 'Comedy', 'Fantasy', 'Sci-Fi']: 1.0\n",
      "Tron (1982) ['Action', 'Adventure', 'Sci-Fi']: 4.0\n",
      "Star Trek: The Motion Picture (1979) ['Adventure', 'Sci-Fi']: 2.5\n",
      "Dangerous Minds (1995) ['Drama']: 2.5\n",
      "Beavis and Butt-Head Do America (1996) ['Adventure', 'Animation', 'Comedy', 'Crime']: 1.0\n",
      "Dumbo (1941) ['Animation', 'Children', 'Drama', 'Musical']: 3.0\n"
     ]
    }
   ],
   "source": [
    "recommender = CollaborativeFilteringRecommender(dataset_handler, 20)\n",
    "users_ratings = dataset_handler.load_users_ratings()\n",
    "user_ratings = users_ratings[1]\n",
    "del users_ratings[1]\n",
    "recommender.train(users_ratings)\n",
    "user_profile = recommender.create_user_profile(user_ratings)\n",
    "recommender.present_user(user_profile, user_ratings)"
   ]
  },
  {
   "cell_type": "code",
   "execution_count": 6,
   "metadata": {
    "collapsed": false
   },
   "outputs": [
    {
     "name": "stdout",
     "output_type": "stream",
     "text": [
      "Recommended movies:\n",
      "Godfather: Part II, The (1974) ['Crime', 'Drama']\n",
      "Raging Bull (1980) ['Drama']\n",
      "Godfather, The (1972) ['Crime', 'Drama']\n",
      "Rear Window (1954) ['Mystery', 'Thriller']\n",
      "On the Waterfront (1954) ['Crime', 'Drama']\n"
     ]
    }
   ],
   "source": [
    "top = recommender.top(user_profile, topN=5)\n",
    "recommender.present_recommendations(top)"
   ]
  },
  {
   "cell_type": "code",
   "execution_count": 7,
   "metadata": {
    "collapsed": false
   },
   "outputs": [
    {
     "data": {
      "text/plain": [
       "0.75211346032869619"
      ]
     },
     "execution_count": 7,
     "metadata": {},
     "output_type": "execute_result"
    }
   ],
   "source": [
    "evaluator = Evaluator(CollaborativeFilteringRecommender(dataset_handler, 20))\n",
    "evaluator.computeRMSE()"
   ]
  },
  {
   "cell_type": "code",
   "execution_count": 8,
   "metadata": {
    "collapsed": false
   },
   "outputs": [
    {
     "data": {
      "text/plain": [
       "0.16823288690476218"
      ]
     },
     "execution_count": 8,
     "metadata": {},
     "output_type": "execute_result"
    }
   ],
   "source": [
    "evaluator.computeMAP()"
   ]
  },
  {
   "cell_type": "code",
   "execution_count": 9,
   "metadata": {
    "collapsed": true
   },
   "outputs": [],
   "source": [
    "class CollaborativeFilteringWithClusteringRecommender(CollaborativeFilteringRecommender):\n",
    "    def __init__(self, dataset_handler, neighbours_to_predict=5, clusters=10):\n",
    "        super(CollaborativeFilteringWithClusteringRecommender, self).__init__(dataset_handler, neighbours_to_predict)\n",
    "        self.clusters = clusters\n",
    "    \n",
    "    def train(self, train_set):\n",
    "        self.users_ratings = train_set\n",
    "        self.users_profiles, self.user_id_to_profile_index = self._create_users_profiles(train_set)\n",
    "        self.kmeans = KMeans(n_clusters=self.clusters).fit(np.array([profile for (profile, _) in self.users_profiles]))\n",
    "        self.movies_watchers = self._get_movies_watchers(train_set)\n",
    "        self.nbrs = NearestNeighbors(metric='cosine', algorithm='brute')\n",
    "    \n",
    "    def predict_rating(self, user_profile, movieId):\n",
    "        nearest_group = self.kmeans.predict(np.array([user_profile[0]]))[0]\n",
    "        profiles_with_ids = np.array([\n",
    "            np.hstack([[watcher], self.users_profiles[self.user_id_to_profile_index[watcher]][0]])\n",
    "            for watcher in self.movies_watchers[movieId]\n",
    "            if self.kmeans.labels_[self.user_id_to_profile_index[watcher]] == nearest_group\n",
    "        ])\n",
    "        nearest_neighbours = self._cosineKNN(user_profile, profiles_with_ids, self.neighbours_to_predict)\n",
    "        if not nearest_neighbours:\n",
    "            return 0.0\n",
    "        return np.average([self.users_ratings[neighbour][movieId] for neighbour in nearest_neighbours])"
   ]
  },
  {
   "cell_type": "code",
   "execution_count": 10,
   "metadata": {
    "collapsed": false
   },
   "outputs": [
    {
     "name": "stdout",
     "output_type": "stream",
     "text": [
      "User favourite genre: Action\n",
      "User ratings:\n",
      "French Connection, The (1971) ['Action', 'Crime', 'Thriller']: 4.0\n",
      "Dracula (Bram Stoker's Dracula) (1992) ['Fantasy', 'Horror', 'Romance', 'Thriller']: 3.5\n",
      "Sleepers (1996) ['Thriller']: 3.0\n",
      "Gods Must Be Crazy, The (1980) ['Adventure', 'Comedy']: 3.0\n",
      "Ben-Hur (1959) ['Action', 'Adventure', 'Drama']: 2.0\n",
      "Willow (1988) ['Action', 'Adventure', 'Fantasy']: 2.0\n",
      "Escape from New York (1981) ['Action', 'Adventure', 'Sci-Fi', 'Thriller']: 2.0\n",
      "Blazing Saddles (1974) ['Comedy', 'Western']: 3.0\n",
      "Gandhi (1982) ['Drama']: 2.0\n",
      "Deer Hunter, The (1978) ['Drama', 'War']: 2.0\n",
      "Cape Fear (1991) ['Thriller']: 2.0\n",
      "Cinema Paradiso (Nuovo cinema Paradiso) (1989) ['Drama']: 4.0\n",
      "Antz (1998) ['Adventure', 'Animation', 'Children', 'Comedy', 'Fantasy']: 2.0\n",
      "Fly, The (1986) ['Drama', 'Horror', 'Sci-Fi', 'Thriller']: 2.5\n",
      "Time Bandits (1981) ['Adventure', 'Comedy', 'Fantasy', 'Sci-Fi']: 1.0\n",
      "Tron (1982) ['Action', 'Adventure', 'Sci-Fi']: 4.0\n",
      "Star Trek: The Motion Picture (1979) ['Adventure', 'Sci-Fi']: 2.5\n",
      "Dangerous Minds (1995) ['Drama']: 2.5\n",
      "Beavis and Butt-Head Do America (1996) ['Adventure', 'Animation', 'Comedy', 'Crime']: 1.0\n",
      "Dumbo (1941) ['Animation', 'Children', 'Drama', 'Musical']: 3.0\n"
     ]
    }
   ],
   "source": [
    "recommender = CollaborativeFilteringWithClusteringRecommender(dataset_handler, 5, 10)\n",
    "users_ratings = dataset_handler.load_users_ratings()\n",
    "user_ratings = users_ratings[1]\n",
    "del users_ratings[1]\n",
    "recommender.train(users_ratings)\n",
    "user_profile = recommender.create_user_profile(user_ratings)\n",
    "recommender.present_user(user_profile, user_ratings)"
   ]
  },
  {
   "cell_type": "code",
   "execution_count": 11,
   "metadata": {
    "collapsed": false
   },
   "outputs": [
    {
     "name": "stdout",
     "output_type": "stream",
     "text": [
      "Recommended movies:\n",
      "That's Entertainment! III (1994) ['Documentary']\n",
      "That's Entertainment, Part II (1976) ['Documentary']\n",
      "Wackiest Ship in the Army, The (1960) ['Comedy', 'War']\n",
      "Fire in the Sky (1993) ['Drama', 'Mystery', 'Sci-Fi']\n",
      "That's Entertainment (1974) ['Documentary']\n"
     ]
    }
   ],
   "source": [
    "top = recommender.top(user_profile, topN=5)\n",
    "recommender.present_recommendations(top)"
   ]
  },
  {
   "cell_type": "code",
   "execution_count": 12,
   "metadata": {
    "collapsed": false
   },
   "outputs": [
    {
     "name": "stdout",
     "output_type": "stream",
     "text": [
      "Done\n",
      "Done\n",
      "Done\n",
      "Done\n"
     ]
    }
   ],
   "source": [
    "clusters = [5, 10, 20, 50]\n",
    "maps, rmses = [], []\n",
    "for cluster in clusters:\n",
    "    evaluator = Evaluator(CollaborativeFilteringWithClusteringRecommender(dataset_handler, 5, cluster))\n",
    "    rmses.append(evaluator.computeRMSE())\n",
    "    print \"Done\"\n",
    "    maps.append(evaluator.computeMAP())"
   ]
  },
  {
   "cell_type": "code",
   "execution_count": 16,
   "metadata": {
    "collapsed": false
   },
   "outputs": [
    {
     "name": "stdout",
     "output_type": "stream",
     "text": [
      "Highest MAP 0.27144229177 for n_clusters = 10\n",
      "[0.227418276374443, 0.2714422917701608, 0.1320130621693123]\n"
     ]
    },
    {
     "data": {
      "text/plain": [
       "[<matplotlib.lines.Line2D at 0xc15ba58>]"
      ]
     },
     "execution_count": 16,
     "metadata": {},
     "output_type": "execute_result"
    },
    {
     "data": {
      "image/png": "[encoded data removed]",
      "text/plain": [
       "<matplotlib.figure.Figure at 0xbfa1240>"
      ]
     },
     "metadata": {},
     "output_type": "display_data"
    }
   ],
   "source": [
    "print \"Highest MAP {} for n_clusters = {}\".format(max(maps), clusters[argmax(maps)])\n",
    "print maps\n",
    "plot(clusters, maps)"
   ]
  },
  {
   "cell_type": "code",
   "execution_count": 17,
   "metadata": {
    "collapsed": false
   },
   "outputs": [
    {
     "name": "stdout",
     "output_type": "stream",
     "text": [
      "Lowest RMSE 0.63492030492 for n_clusters = 10\n",
      "[0.7571246587807078, 0.6349203049203044, 0.7794639556377088]\n"
     ]
    },
    {
     "data": {
      "text/plain": [
       "[<matplotlib.lines.Line2D at 0xd865cc0>]"
      ]
     },
     "execution_count": 17,
     "metadata": {},
     "output_type": "execute_result"
    },
    {
     "data": {
      "image/png": "[encoded data removed]",
      "text/plain": [
       "<matplotlib.figure.Figure at 0xd81a588>"
      ]
     },
     "metadata": {},
     "output_type": "display_data"
    }
   ],
   "source": [
    "print \"Lowest RMSE {} for n_clusters = {}\".format(min(rmses), clusters[argmin(rmses)])\n",
    "print rmses\n",
    "plot(clusters, rmses)"
   ]
  }
 ],
 "metadata": {
  "anaconda-cloud": {},
  "kernelspec": {
   "display_name": "Python [conda root]",
   "language": "python",
   "name": "conda-root-py"
  },
  "language_info": {
   "codemirror_mode": {
    "name": "ipython",
    "version": 2
   },
   "file_extension": ".py",
   "mimetype": "text/x-python",
   "name": "python",
   "nbconvert_exporter": "python",
   "pygments_lexer": "ipython2",
   "version": "2.7.12"
  }
 },
 "nbformat": 4,
 "nbformat_minor": 1
}
