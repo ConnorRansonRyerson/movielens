{
 "cells": [
  {
   "cell_type": "markdown",
   "metadata": {},
   "source": [
    "# Content-based recommendation"
   ]
  },
  {
   "cell_type": "code",
   "execution_count": 1,
   "metadata": {
    "collapsed": false
   },
   "outputs": [
    {
     "name": "stdout",
     "output_type": "stream",
     "text": [
      "Populating the interactive namespace from numpy and matplotlib\n"
     ]
    }
   ],
   "source": [
    "%pylab inline\n",
    "\n",
    "import numpy as np\n",
    "from sklearn.neighbors import NearestNeighbors\n",
    "\n",
    "from evaluator import Evaluator\n",
    "from dataset_handler import DatasetHandler"
   ]
  },
  {
   "cell_type": "code",
   "execution_count": 2,
   "metadata": {
    "collapsed": true
   },
   "outputs": [],
   "source": [
    "dataset100k = \"datasets/ml-latest-small/\"\n",
    "dataset1M = \"datasets/ml-1m\"\n",
    "dataset10M = \"datasets/ml-10m\""
   ]
  },
  {
   "cell_type": "code",
   "execution_count": 3,
   "metadata": {
    "collapsed": true
   },
   "outputs": [],
   "source": [
    "dataset_handler = DatasetHandler(dataset1M)"
   ]
  },
  {
   "cell_type": "code",
   "execution_count": 4,
   "metadata": {
    "collapsed": false
   },
   "outputs": [],
   "source": [
    "class ContentBasedRecommender(object):\n",
    "    def __init__(self, dataset_handler):\n",
    "        self.dataset_handler = dataset_handler\n",
    "    \n",
    "    def train(self, train_set):\n",
    "        self.movies_vectors = self.dataset_handler.load_movies()\n",
    "    \n",
    "    def top(self, user_ratings, topN):\n",
    "        user_profile = self._create_user_profile(user_ratings)\n",
    "        return self._cosineKNN(user_profile, topN)\n",
    "        \n",
    "    def _create_user_profile(self, user_ratings):\n",
    "        mid_rating=2.75\n",
    "        return np.average(\n",
    "            np.array([\n",
    "                self.movies_vectors[self.dataset_handler.id2index(movie)]*np.sign(rating - mid_rating)\n",
    "                for (movie, rating) in user_ratings.items()\n",
    "            ]),\n",
    "            weights=(mid_rating-np.array(user_ratings.values()))**2,\n",
    "            axis=0\n",
    "        )\n",
    "    \n",
    "    def _cosineKNN(self, user_profile, k):\n",
    "        nbrs = NearestNeighbors(k, metric='cosine', algorithm='brute')\n",
    "        nbrs.fit(self.movies_vectors)\n",
    "        return nbrs.kneighbors(np.array([user_profile]), return_distance=False)[0]"
   ]
  },
  {
   "cell_type": "code",
   "execution_count": 5,
   "metadata": {
    "collapsed": false
   },
   "outputs": [
    {
     "name": "stdout",
     "output_type": "stream",
     "text": [
      "['Pump Up the Volume (1990)', \"Let's Talk About Sex (1998)\", \"Muriel's Wedding (1994)\", 'Keeping the Faith (2000)', 'Pumpkinhead (1988)']\n"
     ]
    }
   ],
   "source": [
    "recommender = ContentBasedRecommender(dataset_handler)\n",
    "recommender.train({})\n",
    "user_ratings = dataset_handler.load_users_ratings()\n",
    "top = recommender.top(user_ratings[1], 5)\n",
    "print dataset_handler.ids2titles(top)"
   ]
  },
  {
   "cell_type": "code",
   "execution_count": 6,
   "metadata": {
    "collapsed": false
   },
   "outputs": [
    {
     "data": {
      "text/plain": [
       "0.008962023173299182"
      ]
     },
     "execution_count": 6,
     "metadata": {},
     "output_type": "execute_result"
    }
   ],
   "source": [
    "from evaluator import Evaluator\n",
    "evaluator = Evaluator(ContentBasedRecommender)\n",
    "evaluator.computeMAP(dataset_handler, topN=5)"
   ]
  }
 ],
 "metadata": {
  "anaconda-cloud": {},
  "kernelspec": {
   "display_name": "Python [conda root]",
   "language": "python",
   "name": "conda-root-py"
  },
  "language_info": {
   "codemirror_mode": {
    "name": "ipython",
    "version": 2
   },
   "file_extension": ".py",
   "mimetype": "text/x-python",
   "name": "python",
   "nbconvert_exporter": "python",
   "pygments_lexer": "ipython2",
   "version": "2.7.12"
  }
 },
 "nbformat": 4,
 "nbformat_minor": 1
}
