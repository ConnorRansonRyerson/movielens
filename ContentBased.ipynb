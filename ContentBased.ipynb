{
 "cells": [
  {
   "cell_type": "markdown",
   "metadata": {},
   "source": [
    "# Content-based recommendation"
   ]
  },
  {
   "cell_type": "code",
   "execution_count": 1,
   "metadata": {
    "collapsed": false
   },
   "outputs": [
    {
     "name": "stdout",
     "output_type": "stream",
     "text": [
      "Populating the interactive namespace from numpy and matplotlib\n"
     ]
    }
   ],
   "source": [
    "%pylab inline\n",
    "\n",
    "import numpy as np\n",
    "from sklearn.neighbors import NearestNeighbors\n",
    "\n",
    "from evaluator import Evaluator\n",
    "from dataset_handler import DatasetHandler"
   ]
  },
  {
   "cell_type": "code",
   "execution_count": 2,
   "metadata": {
    "collapsed": true
   },
   "outputs": [],
   "source": [
    "dataset100k = \"datasets/ml-latest-small/\"\n",
    "dataset1M = \"datasets/ml-1m\""
   ]
  },
  {
   "cell_type": "code",
   "execution_count": 3,
   "metadata": {
    "collapsed": true
   },
   "outputs": [],
   "source": [
    "dataset_handler = DatasetHandler(dataset100k)\n",
    "user_ratings = dataset_handler.load_users_ratings()"
   ]
  },
  {
   "cell_type": "code",
   "execution_count": 4,
   "metadata": {
    "collapsed": false
   },
   "outputs": [],
   "source": [
    "class ContentBasedRecommender(object):\n",
    "    def __init__(self, dataset_handler):\n",
    "        self.dataset_handler = dataset_handler\n",
    "        self.movies_vectors = self.dataset_handler.load_movies()\n",
    "    \n",
    "    def train(self, train_set):\n",
    "        pass\n",
    "    \n",
    "    def top(self, user_profile, topN):\n",
    "        return self._cosineKNN_all_movies(user_profile[0], topN)\n",
    "    \n",
    "    def predict_rating(self, user_profile, movieId):\n",
    "        nearest_watched_movies = self._cosineKNN_movies_subset(user_profile[1].keys(), movieId, 5)\n",
    "        return np.average(np.array([user_profile[1][movie] for movie in nearest_watched_movies]))\n",
    "        \n",
    "    def create_user_profile(self, user_ratings):\n",
    "        return (\n",
    "            np.average(\n",
    "                np.array([\n",
    "                    self.movies_vectors[self.dataset_handler.id2index(movie)]\n",
    "                    for (movie, rating) in user_ratings.items()\n",
    "                ]),\n",
    "                weights=np.array(user_ratings.values()),\n",
    "                axis=0\n",
    "            ),\n",
    "            user_ratings\n",
    "        )\n",
    "    \n",
    "    def present_user_profile(self, user_profile):\n",
    "        print \"User favourite genre:\", self.dataset_handler.feature_index2genre(np.argmax(user_profile[0]))\n",
    "        print \"User ratings:\"\n",
    "        for (movieId, rating) in user_profile[1].items():\n",
    "            movie_vector = self.movies_vectors[self.dataset_handler.id2index(movieId)]\n",
    "            print \"{} {}: {}\".format(\n",
    "                self.dataset_handler.id_to_title[movieId],\n",
    "                self.dataset_handler.movie_vector2genres(movie_vector),\n",
    "                rating\n",
    "            )\n",
    "    \n",
    "    def present_recommendations(self, recommendations):\n",
    "        print \"Recommended movies:\"\n",
    "        for movieId in recommendations:\n",
    "            movie_vector = self.movies_vectors[self.dataset_handler.id2index(movieId)]\n",
    "            print \"{} {}\".format(\n",
    "                self.dataset_handler.id_to_title[movieId],\n",
    "                self.dataset_handler.movie_vector2genres(movie_vector)\n",
    "            )\n",
    "    \n",
    "    def _cosineKNN_all_movies(self, user_profile, k):\n",
    "        nbrs = NearestNeighbors(metric='cosine', algorithm='brute')\n",
    "        nbrs.fit(self.movies_vectors)\n",
    "        return self.dataset_handler.indices2ids(nbrs.kneighbors(np.array([user_profile]), k, return_distance=False)[0])\n",
    "    \n",
    "    def _cosineKNN_movies_subset(self, movies_subset, movieId, k):\n",
    "        nbrs = NearestNeighbors(k, metric='cosine', algorithm='brute')\n",
    "        movies_with_ids = np.array([\n",
    "            np.hstack([[watched_movie], self.movies_vectors[self.dataset_handler.id2index(watched_movie)]])\n",
    "            for watched_movie in movies_subset\n",
    "        ])\n",
    "        nbrs.fit(movies_with_ids[:, 1:])\n",
    "        return movies_with_ids[\n",
    "            nbrs.kneighbors(\n",
    "                np.array([self.movies_vectors[self.dataset_handler.id2index(movieId)]]), return_distance=False\n",
    "            )[0],\n",
    "            0\n",
    "        ]"
   ]
  },
  {
   "cell_type": "code",
   "execution_count": 5,
   "metadata": {
    "collapsed": false
   },
   "outputs": [
    {
     "name": "stdout",
     "output_type": "stream",
     "text": [
      "User favourite genre: Adventure\n",
      "User ratings:\n",
      "French Connection, The (1971) ['Action', 'Crime', 'Thriller']: 4.0\n",
      "Dracula (Bram Stoker's Dracula) (1992) ['Fantasy', 'Horror', 'Romance', 'Thriller']: 3.5\n",
      "Sleepers (1996) ['Thriller']: 3.0\n",
      "Gods Must Be Crazy, The (1980) ['Adventure', 'Comedy']: 3.0\n",
      "Ben-Hur (1959) ['Action', 'Adventure', 'Drama']: 2.0\n",
      "Willow (1988) ['Action', 'Adventure', 'Fantasy']: 2.0\n",
      "Escape from New York (1981) ['Action', 'Adventure', 'Sci-Fi', 'Thriller']: 2.0\n",
      "Blazing Saddles (1974) ['Comedy', 'Western']: 3.0\n",
      "Gandhi (1982) ['Drama']: 2.0\n",
      "Deer Hunter, The (1978) ['Drama', 'War']: 2.0\n",
      "Cape Fear (1991) ['Thriller']: 2.0\n",
      "Cinema Paradiso (Nuovo cinema Paradiso) (1989) ['Drama']: 4.0\n",
      "Antz (1998) ['Adventure', 'Animation', 'Children', 'Comedy', 'Fantasy']: 2.0\n",
      "Fly, The (1986) ['Drama', 'Horror', 'Sci-Fi', 'Thriller']: 2.5\n",
      "Time Bandits (1981) ['Adventure', 'Comedy', 'Fantasy', 'Sci-Fi']: 1.0\n",
      "Tron (1982) ['Action', 'Adventure', 'Sci-Fi']: 4.0\n",
      "Star Trek: The Motion Picture (1979) ['Adventure', 'Sci-Fi']: 2.5\n",
      "Dangerous Minds (1995) ['Drama']: 2.5\n",
      "Beavis and Butt-Head Do America (1996) ['Adventure', 'Animation', 'Comedy', 'Crime']: 1.0\n",
      "Dumbo (1941) ['Animation', 'Children', 'Drama', 'Musical']: 3.0\n"
     ]
    }
   ],
   "source": [
    "recommender = ContentBasedRecommender(dataset_handler)\n",
    "user_profile = recommender.create_user_profile(user_ratings[1])\n",
    "recommender.present_user_profile(user_profile)"
   ]
  },
  {
   "cell_type": "code",
   "execution_count": 6,
   "metadata": {
    "collapsed": false
   },
   "outputs": [
    {
     "name": "stdout",
     "output_type": "stream",
     "text": [
      "Recommended movies:\n",
      "Jumper (2008) ['Action', 'Adventure', 'Drama', 'Sci-Fi', 'Thriller']\n",
      "Jurassic World (2015) ['Action', 'Adventure', 'Drama', 'Sci-Fi', 'Thriller']\n",
      "The Hunger Games (2012) ['Action', 'Adventure', 'Drama', 'Sci-Fi', 'Thriller']\n",
      "Children of Men (2006) ['Action', 'Adventure', 'Drama', 'Sci-Fi', 'Thriller']\n",
      "Day After Tomorrow, The (2004) ['Action', 'Adventure', 'Drama', 'Sci-Fi', 'Thriller']\n"
     ]
    }
   ],
   "source": [
    "top = recommender.top(user_profile, topN=5)\n",
    "recommender.present_recommendations(top)"
   ]
  },
  {
   "cell_type": "code",
   "execution_count": 7,
   "metadata": {
    "collapsed": false
   },
   "outputs": [
    {
     "data": {
      "text/plain": [
       "0.01083168480052753"
      ]
     },
     "execution_count": 7,
     "metadata": {},
     "output_type": "execute_result"
    }
   ],
   "source": [
    "from evaluator import Evaluator\n",
    "evaluator = Evaluator(ContentBasedRecommender(dataset_handler))\n",
    "evaluator.computeMAP()"
   ]
  },
  {
   "cell_type": "code",
   "execution_count": 14,
   "metadata": {
    "collapsed": false
   },
   "outputs": [
    {
     "data": {
      "text/plain": [
       "0.9913712686567373"
      ]
     },
     "execution_count": 14,
     "metadata": {},
     "output_type": "execute_result"
    }
   ],
   "source": [
    "evaluator.computeRMSE(dataset_handler)"
   ]
  }
 ],
 "metadata": {
  "anaconda-cloud": {},
  "kernelspec": {
   "display_name": "Python [conda root]",
   "language": "python",
   "name": "conda-root-py"
  },
  "language_info": {
   "codemirror_mode": {
    "name": "ipython",
    "version": 2
   },
   "file_extension": ".py",
   "mimetype": "text/x-python",
   "name": "python",
   "nbconvert_exporter": "python",
   "pygments_lexer": "ipython2",
   "version": "2.7.12"
  }
 },
 "nbformat": 4,
 "nbformat_minor": 1
}
